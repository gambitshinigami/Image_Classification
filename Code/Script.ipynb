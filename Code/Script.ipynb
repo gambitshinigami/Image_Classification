{
 "cells": [
  {
   "cell_type": "code",
   "execution_count": 1,
   "metadata": {},
   "outputs": [],
   "source": [
    "#Import Module for Image classification\n",
    "import os\n",
    "import PIL\n",
    "\n",
    "import pandas as pd\n",
    "import numpy as np\n",
    "import matplotlib.pyplot as plt\n",
    "from keras.preprocessing import image\n",
    "\n",
    "import tensorflow as tf\n",
    "from tensorflow import keras\n",
    "from keras.models import Model, Sequential, load_model\n",
    "from keras.layers import Dense, Conv2D, MaxPool2D, Dropout, BatchNormalization, Flatten\n",
    "from keras.utils import image_dataset_from_directory\n",
    "from keras.applications import ResNet50\n",
    "from tensorflow.keras.optimizers import Adam, Adagrad\n",
    "\n",
    "#import kaggle\n",
    "################################################################################################################################################\n",
    "#Convert images into data-input for the model\n",
    "image_size = (180,180)\n",
    "batch_size = 32\n",
    "train_dir = '../dataset/chest_xray/train'\n",
    "test_dir = '../dataset/chest_xray/test'\n",
    "val_dir = '../dataset/chest_xray/val/'\n",
    "\n",
    "train_data = image_dataset_from_directory(\n",
    "                                        train_dir,\n",
    "                                        validation_split = 0.2,\n",
    "                                        subset = \"training\",\n",
    "                                        seed = 34,\n",
    "                                        label_mode = \"categorical\",\n",
    "                                        image_size = image_size,\n",
    "                                        batch_size =batch_size\n",
    ")\n",
    "\n",
    "test_data = image_dataset_from_directory(\n",
    "                                        test_dir,\n",
    "                                        validation_split = 0.2,\n",
    "                                        subset = \"validation\",\n",
    "                                        seed = 34,\n",
    "                                        label_mode = \"categorical\",\n",
    "                                        image_size = image_size,\n",
    "                                        batch_size =batch_size\n",
    ")\n",
    "\n",
    "val_data = image_dataset_from_directory(\n",
    "                                        val_dir,\n",
    "                                        validation_split = 0.2,\n",
    "                                        subset = \"validation\",\n",
    "                                        seed = 34,\n",
    "                                        label_mode = \"categorical\",\n",
    "                                        image_size = image_size,\n",
    "                                        batch_size =batch_size\n",
    ")\n",
    "################################################################################################################################################\n",
    "def build_model(old_model = None):\n",
    "    #Building the model with transfered Learning from Resnet and weight of my prior model.\n",
    "    model = Sequential()\n",
    "\n",
    "    pre_trained_model = ResNet50(\n",
    "        include_top = False,\n",
    "        input_shape = (*image_size,3),\n",
    "        pooling = \"avg\",\n",
    "        classes = len(train_data.class_names),\n",
    "        weights = \"imagenet\"\n",
    "    )\n",
    "\n",
    "    for layer in pre_trained_model.layers : \n",
    "        layer.trainable = False\n",
    "\n",
    "    model.add(pre_trained_model)\n",
    "    model.add(Flatten())\n",
    "   \n",
    "    model.add(Dense(512, activation = \"relu\"))\n",
    "    model.add(Dropout(0.1))# To reduce the effect of Overfitting\n",
    "    \n",
    "    model.add(Dense(2,activation = 'sigmoid'))\n",
    "\n",
    "    if old_model != None : #A choice to use an old model's weight or not to boost accuracy\n",
    "        model_dir = '../model/' + old_model\n",
    "        model.load_weights(model_dir)\n",
    "    else : pass\n",
    "\n",
    "    model.compile(optimizer=Adam(lr = 0.0001),\n",
    "                    loss=\"binary_crossentropy\",\n",
    "                    metrics=['accuracy'])\n",
    "\n",
    "    return model\n",
    "################################################################################################################################################\n",
    "#The weights of Model = rc_model.hdf5 for better accuracy.\n",
    "my_model = build_model(old_model='rc_model.hdf5')\n",
    "my_model.summary()\n",
    "checkpoint_path = \"../checkpoints/\"\n",
    "checkpoint_dir = os.path.dirname(checkpoint_path)"
   ]
  },
  {
   "cell_type": "code",
   "execution_count": 12,
   "metadata": {},
   "outputs": [
    {
     "name": "stdout",
     "output_type": "stream",
     "text": [
      "Epoch 1/10\n",
      "131/131 [==============================] - 455s 3s/step - loss: 1.0670 - accuracy: 0.8728 - val_loss: 1.9522 - val_accuracy: 0.7339\n",
      "Epoch 2/10\n",
      "131/131 [==============================] - 524s 4s/step - loss: 0.7023 - accuracy: 0.9130 - val_loss: 1.6280 - val_accuracy: 0.7823\n",
      "Epoch 3/10\n",
      "131/131 [==============================] - 514s 4s/step - loss: 0.5133 - accuracy: 0.9281 - val_loss: 1.3280 - val_accuracy: 0.8065\n",
      "Epoch 4/10\n",
      "131/131 [==============================] - 486s 4s/step - loss: 0.3916 - accuracy: 0.9382 - val_loss: 1.4168 - val_accuracy: 0.7984\n",
      "Epoch 5/10\n",
      "131/131 [==============================] - 478s 4s/step - loss: 0.3669 - accuracy: 0.9430 - val_loss: 1.3323 - val_accuracy: 0.8145\n",
      "Epoch 6/10\n",
      "131/131 [==============================] - 453s 3s/step - loss: 0.2958 - accuracy: 0.9516 - val_loss: 1.2548 - val_accuracy: 0.8306\n",
      "Epoch 7/10\n",
      "131/131 [==============================] - 461s 4s/step - loss: 0.2429 - accuracy: 0.9573 - val_loss: 1.4327 - val_accuracy: 0.8145\n",
      "Epoch 8/10\n",
      "131/131 [==============================] - 462s 4s/step - loss: 0.2084 - accuracy: 0.9595 - val_loss: 1.2111 - val_accuracy: 0.8306\n",
      "Epoch 9/10\n",
      "131/131 [==============================] - 461s 4s/step - loss: 0.1872 - accuracy: 0.9631 - val_loss: 1.3239 - val_accuracy: 0.8065\n",
      "Epoch 10/10\n",
      "131/131 [==============================] - 490s 4s/step - loss: 0.1594 - accuracy: 0.9650 - val_loss: 1.2383 - val_accuracy: 0.8065\n"
     ]
    }
   ],
   "source": [
    "################################################################################################################################################\n",
    "# Create a callback that saves the model's weights\n",
    "epoch = 10\n",
    "cp_callback = [\n",
    "    tf.keras.callbacks.ModelCheckpoint(checkpoint_dir + \"/Checkpoint_{epoch}.keras\"),    \n",
    "]\n",
    "\n",
    "# Train the model with the new callback\n",
    "history = my_model.fit(train_data, \n",
    "          epochs=epoch,\n",
    "          validation_data=test_data,\n",
    "          callbacks=cp_callback)  # Pass callback to training\n",
    "################################################################################################################################################"
   ]
  },
  {
   "cell_type": "code",
   "execution_count": 13,
   "metadata": {},
   "outputs": [
    {
     "data": {
      "text/plain": [
       "3"
      ]
     },
     "execution_count": 13,
     "metadata": {},
     "output_type": "execute_result"
    }
   ],
   "source": [
    "#Save model\n",
    "file_count = len(os.listdir('../model'))\n",
    "new_fc=file_count + 1\n",
    "\n",
    "my_model.save(f'../model/rc_model{new_fc}.hdf5')\n",
    "################################################################################################################################################"
   ]
  },
  {
   "cell_type": "code",
   "execution_count": 32,
   "metadata": {},
   "outputs": [
    {
     "data": {
      "image/png": "[encoded data removed]",
      "text/plain": [
       "<Figure size 432x288 with 1 Axes>"
      ]
     },
     "metadata": {},
     "output_type": "display_data"
    }
   ],
   "source": [
    "fig1 = plt.gcf()\n",
    "\n",
    "plt.plot(history.history['accuracy'])\n",
    "plt.plot(history.history['val_accuracy'])\n",
    "plt.axis(\n",
    "    ymin = 0.5,\n",
    "    ymax = 1\n",
    ")\n",
    "plt.grid()\n",
    "plt.title(f'Model Accuracy for {epoch}')\n",
    "plt.ylabel('Accuracy')\n",
    "plt.xlabel('Epochs')\n",
    "plt.legend(['Train', 'Validation'])\n",
    "plt.show()\n",
    "\n"
   ]
  },
  {
   "cell_type": "code",
   "execution_count": 35,
   "metadata": {},
   "outputs": [
    {
     "name": "stdout",
     "output_type": "stream",
     "text": [
      "You must install pydot (`pip install pydot`) and install graphviz (see instructions at https://graphviz.gitlab.io/download/) for plot_model/model_to_dot to work.\n"
     ]
    }
   ],
   "source": [
    "keras.utils.plot_model(my_model, show_shapes=True)"
   ]
  },
  {
   "cell_type": "code",
   "execution_count": 54,
   "metadata": {},
   "outputs": [
    {
     "name": "stdout",
     "output_type": "stream",
     "text": [
      "1/1 [==============================] - 0s 151ms/step\n",
      "This image is 100.00% NORMAL and 0.00% PNEUMONIA.\n"
     ]
    }
   ],
   "source": [
    "img = keras.preprocessing.image.load_img(val_dir+'/NORMAL/NORMAL2-IM-1431-0001.jpeg', target_size=(180,180))\n",
    "img = keras.preprocessing.image.img_to_array(img)\n",
    "img = np.expand_dims(img, axis=0)\n",
    "img = preprocess_input(img)\n",
    "classes = my_model.predict(img)\n",
    "\n",
    "score = float(classes[0][0])\n",
    "print(f\"This image is {100 * (1 - score):.2f}% {train_data.class_names[0]} and {100 * score:.2f}% {train_data.class_names[1]}.\")"
   ]
  }
 ],
 "metadata": {
  "kernelspec": {
   "display_name": "base",
   "language": "python",
   "name": "python3"
  },
  "language_info": {
   "codemirror_mode": {
    "name": "ipython",
    "version": 3
   },
   "file_extension": ".py",
   "mimetype": "text/x-python",
   "name": "python",
   "nbconvert_exporter": "python",
   "pygments_lexer": "ipython3",
   "version": "3.9.12"
  },
  "orig_nbformat": 4,
  "vscode": {
   "interpreter": {
    "hash": "f08154012ddadd8e950e6e9e035c7a7b32c136e7647e9b7c77e02eb723a8bedb"
   }
  }
 },
 "nbformat": 4,
 "nbformat_minor": 2
}
